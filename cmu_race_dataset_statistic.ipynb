{
 "cells": [
  {
   "cell_type": "code",
   "execution_count": 96,
   "metadata": {},
   "outputs": [],
   "source": [
    "import pandas as pd \n",
    "import ast\n",
    "import numpy as np \n",
    "import os  \n",
    "from pathlib import Path\n",
    "import random"
   ]
  },
  {
   "cell_type": "code",
   "execution_count": 58,
   "metadata": {},
   "outputs": [],
   "source": [
    "def breakdown_stats_per_set(path_to_folder: str):\n",
    "    print(\"Breakdown of Numnber of Files per folder:\\n\")\n",
    "    sub_directories = os.listdir(path_to_folder)\n",
    "    for item in sub_directories:\n",
    "        question_count = 0\n",
    "        if not item.startswith('.'):\n",
    "            dataset_count = len([path for path in Path(os.path.join(path_to_folder, item)).rglob('*.txt')])\n",
    "            print(\"Folder:\", item, \"Samples:\", dataset_count)\n",
    "            for sample in Path(os.path.join(path_to_folder, item)).rglob(\"*.txt\"):\n",
    "                with open(sample, 'r') as f:\n",
    "\n"
   ]
  },
  {
   "cell_type": "code",
   "execution_count": 59,
   "metadata": {
    "tags": []
   },
   "outputs": [
    {
     "name": "stdout",
     "output_type": "stream",
     "text": [
      "Breakdown of Numnber of Files per folder:\n",
      "\n",
      "Folder: test Samples: 1407\n",
      "Folder: train Samples: 25137\n",
      "Folder: dev Samples: 1389\n"
     ]
    }
   ],
   "source": [
    "file_breakdown_per_set(\"RACE\")"
   ]
  },
  {
   "cell_type": "code",
   "execution_count": 112,
   "metadata": {},
   "outputs": [],
   "source": [
    "random.seed(1)\n",
    "def get_random_sample_file(path_to_folder:str) -> dict:\n",
    "    random_file = random.sample([path for path in Path(path_to_folder).rglob('*.txt')], 1)\n",
    "    with open(random_file[0], 'r') as f:\n",
    "        ctnt = f.read()\n",
    "        content_dictionary = ast.literal_eval(ctnt)\n",
    "    return content_dictionary\n"
   ]
  },
  {
   "cell_type": "code",
   "execution_count": 116,
   "metadata": {},
   "outputs": [
    {
     "name": "stdout",
     "output_type": "stream",
     "text": [
      "dict_keys(['answers', 'options', 'questions', 'article', 'id'])\n",
      "['What did Immanuel Nobel invented during the Crimean War?', 'Why did Alfred Nobel return to Sweden? Because his father  _  .', 'What was Alfred Nobel always searching for?']\n"
     ]
    }
   ],
   "source": [
    "random_sample = get_random_sample_file('RACE')\n",
    "print(random_sample.keys())\n",
    "print(random_sample[\"questions\"])"
   ]
  }
 ],
 "metadata": {
  "interpreter": {
   "hash": "31f2aee4e71d21fbe5cf8b01ff0e069b9275f58929596ceb00d14d90e3e16cd6"
  },
  "kernelspec": {
   "display_name": "Python 3",
   "language": "python",
   "name": "python3"
  },
  "language_info": {
   "codemirror_mode": {
    "name": "ipython",
    "version": 3
   },
   "file_extension": ".py",
   "mimetype": "text/x-python",
   "name": "python",
   "nbconvert_exporter": "python",
   "pygments_lexer": "ipython3",
   "version": "3.7.4"
  }
 },
 "nbformat": 4,
 "nbformat_minor": 2
}
